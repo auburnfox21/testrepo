{
 "cells": [
  {
   "cell_type": "markdown",
   "id": "6930f6cb",
   "metadata": {},
   "source": [
    "## Author \n",
    "Faith Loy \n",
    "\n",
    "\n",
    "# Data Science Tools and Ecosystems \n"
   ]
  },
  {
   "cell_type": "markdown",
   "id": "bf094f39",
   "metadata": {},
   "source": [
    "## In this notebook, Data Science Tools and Ecosystem are summarized. \n",
    "**Objectives:**\n",
    "- R and R studio are used by data scientists to create visualizations and plot data.\n",
    "- Git Hub and Git Lab are used by data scientists to share and collaborate on code.\n",
    "- Jupyter Notebooks is an open source tool for storing, deploying, and writing programming languages. \n"
   ]
  },
  {
   "cell_type": "markdown",
   "id": "622de2cf",
   "metadata": {},
   "source": [
    "### Some of the popular languages that Data Science use are:\n",
    "1. R\n",
    "2. Python\n",
    "3. Julia "
   ]
  },
  {
   "cell_type": "markdown",
   "id": "e9ee269c",
   "metadata": {},
   "source": [
    "| Data Science Tools |\n",
    "| ------------------ | \n",
    "| R Studio | \n",
    "|Apache Spark |\n",
    "|Jupyter Notebook |  "
   ]
  },
  {
   "cell_type": "markdown",
   "id": "78e94403",
   "metadata": {},
   "source": [
    "### Below are a few examples of evaluating arithmetic expressions in Python"
   ]
  },
  {
   "cell_type": "code",
   "execution_count": 4,
   "id": "82a18270",
   "metadata": {},
   "outputs": [
    {
     "data": {
      "text/plain": [
       "17"
      ]
     },
     "execution_count": 4,
     "metadata": {},
     "output_type": "execute_result"
    }
   ],
   "source": [
    "#This a simple arithmetic expression to mutiply then add integers\n",
    "(3*4)+5"
   ]
  },
  {
   "cell_type": "code",
   "execution_count": 5,
   "id": "220ee1ca",
   "metadata": {},
   "outputs": [
    {
     "data": {
      "text/plain": [
       "3.3333333333333335"
      ]
     },
     "execution_count": 5,
     "metadata": {},
     "output_type": "execute_result"
    }
   ],
   "source": [
    "#This will convert 200 minutes to hours by diving by 60\n",
    "200/60\n"
   ]
  },
  {
   "cell_type": "code",
   "execution_count": null,
   "id": "081e9be9",
   "metadata": {},
   "outputs": [],
   "source": [
    "*Objectives:*"
   ]
  }
 ],
 "metadata": {
  "kernelspec": {
   "display_name": "Python 3 (ipykernel)",
   "language": "python",
   "name": "python3"
  },
  "language_info": {
   "codemirror_mode": {
    "name": "ipython",
    "version": 3
   },
   "file_extension": ".py",
   "mimetype": "text/x-python",
   "name": "python",
   "nbconvert_exporter": "python",
   "pygments_lexer": "ipython3",
   "version": "3.9.13"
  }
 },
 "nbformat": 4,
 "nbformat_minor": 5
}
